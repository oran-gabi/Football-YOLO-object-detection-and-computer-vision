{
 "cells": [
  {
   "cell_type": "code",
   "execution_count": 1,
   "metadata": {},
   "outputs": [
    {
     "name": "stdout",
     "output_type": "stream",
     "text": [
      "Collecting roboflow\n",
      "  Downloading roboflow-1.1.48-py3-none-any.whl.metadata (9.7 kB)\n",
      "Requirement already satisfied: certifi in c:\\users\\val\\documents\\visual studio code\\gabi code\\python\\p97_football_analysis\\env\\lib\\site-packages (from roboflow) (2024.8.30)\n",
      "Collecting idna==3.7 (from roboflow)\n",
      "  Using cached idna-3.7-py3-none-any.whl.metadata (9.9 kB)\n",
      "Requirement already satisfied: cycler in c:\\users\\val\\documents\\visual studio code\\gabi code\\python\\p97_football_analysis\\env\\lib\\site-packages (from roboflow) (0.12.1)\n",
      "Requirement already satisfied: kiwisolver>=1.3.1 in c:\\users\\val\\documents\\visual studio code\\gabi code\\python\\p97_football_analysis\\env\\lib\\site-packages (from roboflow) (1.4.7)\n",
      "Requirement already satisfied: matplotlib in c:\\users\\val\\documents\\visual studio code\\gabi code\\python\\p97_football_analysis\\env\\lib\\site-packages (from roboflow) (3.9.2)\n",
      "Requirement already satisfied: numpy>=1.18.5 in c:\\users\\val\\documents\\visual studio code\\gabi code\\python\\p97_football_analysis\\env\\lib\\site-packages (from roboflow) (2.1.2)\n",
      "Collecting opencv-python-headless==4.10.0.84 (from roboflow)\n",
      "  Downloading opencv_python_headless-4.10.0.84-cp37-abi3-win_amd64.whl.metadata (20 kB)\n",
      "Requirement already satisfied: Pillow>=7.1.2 in c:\\users\\val\\documents\\visual studio code\\gabi code\\python\\p97_football_analysis\\env\\lib\\site-packages (from roboflow) (11.0.0)\n",
      "Requirement already satisfied: python-dateutil in c:\\users\\val\\documents\\visual studio code\\gabi code\\python\\p97_football_analysis\\env\\lib\\site-packages (from roboflow) (2.9.0.post0)\n",
      "Collecting python-dotenv (from roboflow)\n",
      "  Using cached python_dotenv-1.0.1-py3-none-any.whl.metadata (23 kB)\n",
      "Requirement already satisfied: requests in c:\\users\\val\\documents\\visual studio code\\gabi code\\python\\p97_football_analysis\\env\\lib\\site-packages (from roboflow) (2.32.3)\n",
      "Requirement already satisfied: six in c:\\users\\val\\documents\\visual studio code\\gabi code\\python\\p97_football_analysis\\env\\lib\\site-packages (from roboflow) (1.16.0)\n",
      "Requirement already satisfied: urllib3>=1.26.6 in c:\\users\\val\\documents\\visual studio code\\gabi code\\python\\p97_football_analysis\\env\\lib\\site-packages (from roboflow) (2.2.3)\n",
      "Requirement already satisfied: tqdm>=4.41.0 in c:\\users\\val\\documents\\visual studio code\\gabi code\\python\\p97_football_analysis\\env\\lib\\site-packages (from roboflow) (4.66.6)\n",
      "Requirement already satisfied: PyYAML>=5.3.1 in c:\\users\\val\\documents\\visual studio code\\gabi code\\python\\p97_football_analysis\\env\\lib\\site-packages (from roboflow) (6.0.2)\n",
      "Collecting requests-toolbelt (from roboflow)\n",
      "  Downloading requests_toolbelt-1.0.0-py2.py3-none-any.whl.metadata (14 kB)\n",
      "Collecting filetype (from roboflow)\n",
      "  Downloading filetype-1.2.0-py2.py3-none-any.whl.metadata (6.5 kB)\n",
      "Requirement already satisfied: colorama in c:\\users\\val\\documents\\visual studio code\\gabi code\\python\\p97_football_analysis\\env\\lib\\site-packages (from tqdm>=4.41.0->roboflow) (0.4.6)\n",
      "Requirement already satisfied: contourpy>=1.0.1 in c:\\users\\val\\documents\\visual studio code\\gabi code\\python\\p97_football_analysis\\env\\lib\\site-packages (from matplotlib->roboflow) (1.3.0)\n",
      "Requirement already satisfied: fonttools>=4.22.0 in c:\\users\\val\\documents\\visual studio code\\gabi code\\python\\p97_football_analysis\\env\\lib\\site-packages (from matplotlib->roboflow) (4.54.1)\n",
      "Requirement already satisfied: packaging>=20.0 in c:\\users\\val\\documents\\visual studio code\\gabi code\\python\\p97_football_analysis\\env\\lib\\site-packages (from matplotlib->roboflow) (24.1)\n",
      "Requirement already satisfied: pyparsing>=2.3.1 in c:\\users\\val\\documents\\visual studio code\\gabi code\\python\\p97_football_analysis\\env\\lib\\site-packages (from matplotlib->roboflow) (3.2.0)\n",
      "Requirement already satisfied: charset-normalizer<4,>=2 in c:\\users\\val\\documents\\visual studio code\\gabi code\\python\\p97_football_analysis\\env\\lib\\site-packages (from requests->roboflow) (3.4.0)\n",
      "Downloading roboflow-1.1.48-py3-none-any.whl (80 kB)\n",
      "Using cached idna-3.7-py3-none-any.whl (66 kB)\n",
      "Downloading opencv_python_headless-4.10.0.84-cp37-abi3-win_amd64.whl (38.8 MB)\n",
      "   ---------------------------------------- 0.0/38.8 MB ? eta -:--:--\n",
      "    --------------------------------------- 0.5/38.8 MB 3.4 MB/s eta 0:00:12\n",
      "   - -------------------------------------- 1.8/38.8 MB 7.2 MB/s eta 0:00:06\n",
      "   ---- ----------------------------------- 4.7/38.8 MB 8.9 MB/s eta 0:00:04\n",
      "   ------ --------------------------------- 6.6/38.8 MB 9.1 MB/s eta 0:00:04\n",
      "   -------- ------------------------------- 8.4/38.8 MB 9.0 MB/s eta 0:00:04\n",
      "   ---------- ----------------------------- 10.5/38.8 MB 8.8 MB/s eta 0:00:04\n",
      "   ------------ --------------------------- 12.3/38.8 MB 8.9 MB/s eta 0:00:03\n",
      "   -------------- ------------------------- 14.2/38.8 MB 8.9 MB/s eta 0:00:03\n",
      "   ---------------- ----------------------- 16.3/38.8 MB 8.9 MB/s eta 0:00:03\n",
      "   ------------------ --------------------- 18.4/38.8 MB 9.0 MB/s eta 0:00:03\n",
      "   -------------------- ------------------- 20.2/38.8 MB 9.0 MB/s eta 0:00:03\n",
      "   ---------------------- ----------------- 22.0/38.8 MB 8.9 MB/s eta 0:00:02\n",
      "   ------------------------ --------------- 23.9/38.8 MB 9.0 MB/s eta 0:00:02\n",
      "   -------------------------- ------------- 26.0/38.8 MB 9.0 MB/s eta 0:00:02\n",
      "   ---------------------------- ----------- 28.0/38.8 MB 9.1 MB/s eta 0:00:02\n",
      "   ------------------------------- -------- 30.1/38.8 MB 9.2 MB/s eta 0:00:01\n",
      "   --------------------------------- ------ 32.2/38.8 MB 9.2 MB/s eta 0:00:01\n",
      "   ----------------------------------- ---- 34.3/38.8 MB 9.2 MB/s eta 0:00:01\n",
      "   ------------------------------------- -- 36.7/38.8 MB 9.3 MB/s eta 0:00:01\n",
      "   ---------------------------------------  38.5/38.8 MB 9.2 MB/s eta 0:00:01\n",
      "   ---------------------------------------- 38.8/38.8 MB 9.0 MB/s eta 0:00:00\n",
      "Downloading filetype-1.2.0-py2.py3-none-any.whl (19 kB)\n",
      "Using cached python_dotenv-1.0.1-py3-none-any.whl (19 kB)\n",
      "Downloading requests_toolbelt-1.0.0-py2.py3-none-any.whl (54 kB)\n",
      "Installing collected packages: filetype, python-dotenv, opencv-python-headless, idna, requests-toolbelt, roboflow\n",
      "  Attempting uninstall: idna\n",
      "    Found existing installation: idna 3.10\n",
      "    Uninstalling idna-3.10:\n",
      "      Successfully uninstalled idna-3.10\n",
      "Successfully installed filetype-1.2.0 idna-3.7 opencv-python-headless-4.10.0.84 python-dotenv-1.0.1 requests-toolbelt-1.0.0 roboflow-1.1.48\n"
     ]
    },
    {
     "name": "stderr",
     "output_type": "stream",
     "text": [
      "\n",
      "[notice] A new release of pip is available: 24.2 -> 24.3.1\n",
      "[notice] To update, run: python.exe -m pip install --upgrade pip\n"
     ]
    }
   ],
   "source": [
    "!pip install roboflow\n"
   ]
  },
  {
   "cell_type": "markdown",
   "metadata": {},
   "source": [
    "# Get Dataset\n"
   ]
  },
  {
   "cell_type": "code",
   "execution_count": 3,
   "metadata": {},
   "outputs": [
    {
     "name": "stdout",
     "output_type": "stream",
     "text": [
      "loading Roboflow workspace...\n",
      "loading Roboflow project...\n"
     ]
    },
    {
     "name": "stderr",
     "output_type": "stream",
     "text": [
      "Downloading Dataset Version Zip in football-players-detection-1 to yolov5pytorch:: 100%|██████████| 148663/148663 [00:14<00:00, 10592.47it/s]"
     ]
    },
    {
     "name": "stdout",
     "output_type": "stream",
     "text": [
      "\n"
     ]
    },
    {
     "name": "stderr",
     "output_type": "stream",
     "text": [
      "\n",
      "Extracting Dataset Version Zip to football-players-detection-1 in yolov5pytorch:: 100%|██████████| 1338/1338 [00:02<00:00, 583.77it/s]\n"
     ]
    }
   ],
   "source": [
    "\n",
    "from roboflow import Roboflow\n",
    "rf = Roboflow(api_key=\"rO0Q6Wht65f8T0dgyEEW\")\n",
    "project = rf.workspace(\"roboflow-jvuqo\").project(\"football-players-detection-3zvbc\")\n",
    "version = project.version(1)\n",
    "dataset = version.download(\"yolov5\")\n",
    "                "
   ]
  },
  {
   "cell_type": "code",
   "execution_count": 4,
   "metadata": {},
   "outputs": [
    {
     "data": {
      "text/plain": [
       "'c:\\\\Users\\\\Val\\\\Documents\\\\visual studio code\\\\GABI CODE\\\\python\\\\p97_football_analysis\\\\training\\\\football-players-detection-1'"
      ]
     },
     "execution_count": 4,
     "metadata": {},
     "output_type": "execute_result"
    }
   ],
   "source": [
    "dataset.location"
   ]
  },
  {
   "cell_type": "code",
   "execution_count": 5,
   "metadata": {},
   "outputs": [
    {
     "data": {
      "text/plain": [
       "'football-players-detection-1/football-players-detection-1/valid'"
      ]
     },
     "execution_count": 5,
     "metadata": {},
     "output_type": "execute_result"
    }
   ],
   "source": [
    "import shutil\n",
    "\n",
    "shutil.move('football-players-detection-1/train',\n",
    "            'football-players-detection-1/football-players-detection-1/train'\n",
    "            )\n",
    "shutil.move('football-players-detection-1/test',\n",
    "            'football-players-detection-1/football-players-detection-1/test'\n",
    "            )\n",
    "shutil.move('football-players-detection-1/valid',\n",
    "            'football-players-detection-1/football-players-detection-1/valid'\n",
    "            )"
   ]
  },
  {
   "cell_type": "markdown",
   "metadata": {},
   "source": [
    "# Training\n"
   ]
  },
  {
   "cell_type": "code",
   "execution_count": 12,
   "metadata": {},
   "outputs": [
    {
     "name": "stdout",
     "output_type": "stream",
     "text": [
      "Listing contents of dataset_location (nested):\n",
      "['test', 'train', 'valid']\n"
     ]
    }
   ],
   "source": [
    "import os\n",
    "\n",
    "# Update dataset_location to point to the nested directory\n",
    "dataset_location = './football-players-detection-1/football-players-detection-1'\n",
    "\n",
    "# Verify contents within the nested directory\n",
    "print(\"Listing contents of dataset_location (nested):\")\n",
    "print(os.listdir(dataset_location))\n"
   ]
  },
  {
   "cell_type": "code",
   "execution_count": null,
   "metadata": {},
   "outputs": [],
   "source": [
    "# !yolo task=detect mode=train  model=yolov5m.pt data={dataset.location}/data.yaml epochs=100 imgsz=640"
   ]
  }
 ],
 "metadata": {
  "kernelspec": {
   "display_name": "env",
   "language": "python",
   "name": "python3"
  },
  "language_info": {
   "codemirror_mode": {
    "name": "ipython",
    "version": 3
   },
   "file_extension": ".py",
   "mimetype": "text/x-python",
   "name": "python",
   "nbconvert_exporter": "python",
   "pygments_lexer": "ipython3",
   "version": "3.12.4"
  }
 },
 "nbformat": 4,
 "nbformat_minor": 2
}
